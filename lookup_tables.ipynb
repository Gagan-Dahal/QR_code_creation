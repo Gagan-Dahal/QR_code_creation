{
 "cells": [
  {
   "cell_type": "code",
   "execution_count": null,
   "id": "1c0c9afc",
   "metadata": {},
   "outputs": [],
   "source": [
    "alpha = 0x02 #Alpha is an an element which can generate all elements of the field after being raiesd to some power\n",
    "primitive = 0x11D #Primitive is irreductible polynomial that defines the Gallois Field.\n",
    "\n",
    "log = [0]*256\n",
    "antilog = [0]*512 #Since the operations are closed so there must be wraparound i.e. alpha^255 = alpha^0 = 1 so when there is antilog(log[a] + log[b]), antilog(log[a] + log[b] % 255) is not required since the values beyond 255 are kept the same as the initial values.\n",
    "\n",
    "x = 1\n",
    "\n",
    "for i in range(255):\n",
    "    antilog[i] = x\n",
    "    log[x] = i\n",
    "\n",
    "    x = x<<1 #Left Shift by 1 i.e. multiply by 2 i.e. alpha, microprocessor nostalgia\n",
    "    \n",
    "    if x & 0x100: #If there is 9th bit then it is beyond GF(256)\n",
    "        x = x^primitive #EXOR is same as addition/substraction, later in this case, in GF(2)\n",
    "\n",
    "for i in range(255, 512):\n",
    "    antilog[i] = antilog[i-255]"
   ]
  },
  {
   "cell_type": "code",
   "execution_count": null,
   "id": "20913ac6",
   "metadata": {},
   "outputs": [],
   "source": [
    "def gf_addition(a, b):\n",
    "    return a^b\n",
    "\n",
    "def gf_multiplication(a, b):\n",
    "    if a==0 or b==0:\n",
    "        return 0\n",
    "    return antilog[log[a] + log[b]]\n",
    "\n",
    "def gf_division(a, b):\n",
    "    if a==0:\n",
    "        return 0\n",
    "    if b==0:\n",
    "        raise ZeroDivisionError()\n",
    "    return antilog[log[a] - log[b]]\n",
    "\n",
    "def poly_mul(a, b):\n",
    "    result = [0]*(len(a)+len(b)-1)\n",
    "    for i in range(len(a)):\n",
    "        for j in range(len(b)):\n",
    "            result[i+j] ^= gf_multiplication(a[i], b[j])\n",
    "    return result\n",
    "\n",
    "def generate_generator(num_ec):\n",
    "    g = [1]\n",
    "    for i in range(num_ec):\n",
    "        g = poly_mul(g, [1, antilog[i]])  # (x-a^i) is written as [1, antilog[i] i.e. a^i] and +/- are same in GF(256)\n",
    "    return g"
   ]
  },
  {
   "cell_type": "code",
   "execution_count": 6,
   "id": "f380f28f",
   "metadata": {},
   "outputs": [
    {
     "data": {
      "text/plain": [
       "[1, 216, 194, 159, 111, 199, 94, 95, 113, 157, 193]"
      ]
     },
     "execution_count": 6,
     "metadata": {},
     "output_type": "execute_result"
    }
   ],
   "source": [
    "generate_generator(10)"
   ]
  },
  {
   "cell_type": "code",
   "execution_count": null,
   "id": "e80180c7",
   "metadata": {},
   "outputs": [],
   "source": [
    "def poly_div(dividend, divisor): #We perform polynomial long division after which the remainder will be the error correction codeword\n",
    "    divi = list(dividend)\n",
    "    for i in range(len(dividend) - len(divisor)+1):\n",
    "        coeff = divi[i]\n",
    "        if coeff!=0:\n",
    "            for j in range(len(divisor)):\n",
    "                divi[i+j] ^= gf_multiplication(divisor[j], coeff) \n",
    "                '''This is in place division where the dividend is modified in each operation \n",
    "                    divisor*highest_coeff_of_dividend is substracted from dividend taking the first terms equal to the number of terms of divisor'''\n",
    "    remainder = divi[-(len(dividend)-1):]  #The last remaining terms with degree, at most, one less than divisor\n",
    "    return remainder"
   ]
  },
  {
   "cell_type": "code",
   "execution_count": null,
   "id": "69566ed4",
   "metadata": {},
   "outputs": [],
   "source": []
  }
 ],
 "metadata": {
  "kernelspec": {
   "display_name": "base",
   "language": "python",
   "name": "python3"
  },
  "language_info": {
   "codemirror_mode": {
    "name": "ipython",
    "version": 3
   },
   "file_extension": ".py",
   "mimetype": "text/x-python",
   "name": "python",
   "nbconvert_exporter": "python",
   "pygments_lexer": "ipython3",
   "version": "3.12.3"
  }
 },
 "nbformat": 4,
 "nbformat_minor": 5
}
