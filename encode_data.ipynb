{
 "cells": [
  {
   "cell_type": "code",
   "execution_count": 238,
   "id": "093ca875",
   "metadata": {},
   "outputs": [],
   "source": [
    "from data_encode import encode\n",
    "from data_encode import to_byte"
   ]
  },
  {
   "cell_type": "code",
   "execution_count": 239,
   "id": "6aa4699b",
   "metadata": {},
   "outputs": [
    {
     "name": "stdout",
     "output_type": "stream",
     "text": [
      "[64, 164, 134, 86, 198, 198, 245, 118, 247, 38, 198, 64, 236, 17, 236, 17]\n"
     ]
    }
   ],
   "source": [
    "# string_input = input(\"Enter the data to be encoded(14 chars max)\")\n",
    "string_input = \"HelloWorld\"\n",
    "encoded_message = encode(string_input)\n",
    "\n",
    "print(encoded_message)"
   ]
  },
  {
   "cell_type": "code",
   "execution_count": 240,
   "id": "a222d88c",
   "metadata": {},
   "outputs": [],
   "source": [
    "alpha = 0x02 #Alpha is an an element which can generate all elements of the field after being raiesd to some power\n",
    "primitive = 0x11D #Primitive is irreductible polynomial that defines the Gallois Field.\n",
    "\n",
    "log = [0]*256\n",
    "antilog = [0]*512 #Since the operations are closed so there must be wraparound i.e. alpha^255 = alpha^0 = 1 so when there is antilog(log[a] + log[b]), antilog(log[a] + log[b] % 255) is not required since the values beyond 255 are kept the same as the initial values.\n",
    "\n",
    "x = 1\n",
    "\n",
    "for i in range(255):\n",
    "    antilog[i] = x\n",
    "    log[x] = i\n",
    "\n",
    "    x = x<<1 #Left Shift by 1 i.e. multiply by 2 i.e. alpha; microprocessor nostalgia\n",
    "    \n",
    "    if x & 0x100: #If there is 9th bit then it is beyond GF(256)\n",
    "        x = x^primitive #EXOR is same as addition/substraction, later in this case, in GF(2)\n",
    "\n",
    "for i in range(255, 512):\n",
    "    antilog[i] = antilog[i-255]"
   ]
  },
  {
   "cell_type": "code",
   "execution_count": 241,
   "id": "e6b36525",
   "metadata": {},
   "outputs": [],
   "source": [
    "def gf_addition(a, b):\n",
    "    return a^b\n",
    "\n",
    "def gf_multiplication(a, b):\n",
    "    if a==0 or b==0:\n",
    "        return 0\n",
    "    return antilog[log[a] + log[b]]\n",
    "\n",
    "def gf_division(a, b):\n",
    "    if a==0:\n",
    "        return 0\n",
    "    if b==0:\n",
    "        raise ZeroDivisionError()\n",
    "    return antilog[(log[a] - log[b])%255]\n",
    "\n",
    "def poly_mul(a, b):\n",
    "    result = [0]*(len(a)+len(b)-1)\n",
    "    for i in range(len(a)):\n",
    "        for j in range(len(b)):\n",
    "            result[i+j] ^= gf_multiplication(a[i], b[j])\n",
    "    return result\n",
    "\n",
    "def generate_generator(num_ec):\n",
    "    g = [1]\n",
    "    for i in range(num_ec):\n",
    "        g = poly_mul(g, [1, antilog[i]])  # (x-a^i) is written as [1, antilog[i] i.e. a^i] and +/- are same in GF(256)\n",
    "    return g"
   ]
  },
  {
   "cell_type": "code",
   "execution_count": 242,
   "id": "ffa9f07a",
   "metadata": {},
   "outputs": [],
   "source": [
    "def poly_div(dividend, divisor): #We perform polynomial long division after which the remainder will be the error correction codeword\n",
    "    divi = list(dividend)\n",
    "    for i in range(len(dividend) - len(divisor)+1):\n",
    "        coeff = divi[i]\n",
    "        if coeff!=0:\n",
    "            for j in range(len(divisor)):\n",
    "                divi[i+j] ^= gf_multiplication(divisor[j], coeff) \n",
    "                '''This is in place division where the dividend is modified in each operation \n",
    "                    divisor*highest_coeff_of_dividend is substracted from dividend taking the first terms equal to the number of terms of divisor.\n",
    "                    The first term is always cancelled as the generator polynomial is monic and other terms are modified accordingly.'''\n",
    "    remainder = divi[-(len(divisor)-1):]  #The last remaining terms with degree, at most, one less than divisor\n",
    "    return remainder"
   ]
  },
  {
   "cell_type": "code",
   "execution_count": 243,
   "id": "edffeac0",
   "metadata": {},
   "outputs": [],
   "source": [
    "#Error Correction level: \n",
    "L = 0b01\n",
    "M = 0b00\n",
    "Q = 0b11\n",
    "H = 0b10\n",
    "ERROR_CORRECTION_BYTES = 10"
   ]
  },
  {
   "cell_type": "code",
   "execution_count": 244,
   "id": "54f12962",
   "metadata": {},
   "outputs": [
    {
     "name": "stdout",
     "output_type": "stream",
     "text": [
      "[64, 164, 134, 86, 198, 198, 245, 118, 247, 38, 198, 64, 236, 17, 236, 17, 0, 0, 0, 0, 0, 0, 0, 0, 0, 0]\n"
     ]
    }
   ],
   "source": [
    "padded_message = encoded_message + [0 for i in range(ERROR_CORRECTION_BYTES)]\n",
    "print(padded_message)"
   ]
  },
  {
   "cell_type": "code",
   "execution_count": 245,
   "id": "2941ef86",
   "metadata": {},
   "outputs": [
    {
     "name": "stdout",
     "output_type": "stream",
     "text": [
      "[205, 22, 167, 68, 166, 106, 114, 197, 70, 229]\n"
     ]
    }
   ],
   "source": [
    "redundant_bits = poly_div(padded_message, generate_generator(ERROR_CORRECTION_BYTES))\n",
    "print(redundant_bits)"
   ]
  },
  {
   "cell_type": "code",
   "execution_count": 246,
   "id": "5a259334",
   "metadata": {},
   "outputs": [
    {
     "name": "stdout",
     "output_type": "stream",
     "text": [
      "[64, 164, 134, 86, 198, 198, 245, 118, 247, 38, 198, 64, 236, 17, 236, 17, 205, 22, 167, 68, 166, 106, 114, 197, 70, 229]\n"
     ]
    }
   ],
   "source": [
    "for i, j in zip(range(len(encoded_message), len(encoded_message) + ERROR_CORRECTION_BYTES), range(ERROR_CORRECTION_BYTES)):\n",
    "    padded_message[i] = redundant_bits[j]\n",
    "\n",
    "final_codeword = padded_message\n",
    "print(final_codeword)"
   ]
  },
  {
   "cell_type": "code",
   "execution_count": 247,
   "id": "97faaaa2",
   "metadata": {},
   "outputs": [],
   "source": [
    "import numpy as np"
   ]
  },
  {
   "cell_type": "code",
   "execution_count": 248,
   "id": "d9bb4a87",
   "metadata": {},
   "outputs": [],
   "source": [
    "# To build the 21*21 matrix with required patterns\n",
    "\n",
    "code_matrix = np.zeros((21, 21), dtype = int)\n",
    "is_function = np.zeros((21, 21), dtype = bool)\n",
    "SIZE = 21"
   ]
  },
  {
   "cell_type": "code",
   "execution_count": 249,
   "id": "8ebcabed",
   "metadata": {},
   "outputs": [],
   "source": [
    "#Finder 7*7 matrix with alternate black and white patches at top left, top right and bottom left\n",
    "\n",
    "finder = np.array([\n",
    "    [0, 0, 0, 0, 0, 0, 0],  \n",
    "    [0, 1, 1, 1, 1, 1, 0],  \n",
    "    [0, 1, 0, 0, 0, 1, 0],  \n",
    "    [0, 1, 0, 0, 0, 1, 0],  \n",
    "    [0, 1, 0, 0, 0, 1, 0],  \n",
    "    [0, 1, 1, 1, 1, 1, 0],  \n",
    "    [0, 0, 0, 0, 0, 0, 0],  \n",
    "])\n",
    "def place_finder_separator(row, column):\n",
    "    for i in range(7):\n",
    "        for j in range(7):\n",
    "            code_matrix[row+i, column+j] = finder[i, j]\n",
    "            is_function[row+i, column+j] = True\n",
    "\n",
    "    for i in range(-1, 8):\n",
    "        rr = row+i\n",
    "        if (rr>=0 and rr<SIZE):\n",
    "            for j in range(-1, 8):\n",
    "                cc = column + j\n",
    "                if (cc>=0 and cc<SIZE and not is_function[rr, cc]):\n",
    "                    code_matrix[rr, cc] = 1\n",
    "                    is_function[rr, cc] = True\n",
    "place_finder_separator(0, 0)\n",
    "place_finder_separator(SIZE - 7, 0)\n",
    "place_finder_separator(0, SIZE - 7)\n",
    "\n"
   ]
  },
  {
   "cell_type": "code",
   "execution_count": 250,
   "id": "6bf185eb",
   "metadata": {},
   "outputs": [],
   "source": [
    "#To place timing\n",
    "def place_timing():\n",
    "    init = 0\n",
    "    for i in range(8, (SIZE - 8)):\n",
    "        code_matrix[i, 6] = init\n",
    "        init = abs(1 - init)\n",
    "        is_function[i, 6] = True\n",
    "    init = 0\n",
    "    for j in range(8, SIZE - 8):\n",
    "        code_matrix[6, j] = init\n",
    "        init = abs(1 - init)\n",
    "        is_function[6, j] = True\n",
    "place_timing()\n",
    "code_matrix[13, 8] = 0\n",
    "is_function[13, 8] = True\n",
    "\n"
   ]
  },
  {
   "cell_type": "code",
   "execution_count": 251,
   "id": "89ee38f4",
   "metadata": {},
   "outputs": [],
   "source": [
    "#Reserve format strip area\n",
    "for i in range(9):\n",
    "    if not is_function[i, 8]:\n",
    "        is_function[i, 8] = True  \n",
    "        \n",
    "for j in range(8):\n",
    "    if not is_function[8, j]:\n",
    "        is_function[8, j] = True\n",
    "\n",
    "for i in range(7):\n",
    "    is_function[i+(SIZE - 7), 8] = True\n",
    "for j in range(8):\n",
    "    is_function[8, j+(SIZE - 8)] = True\n",
    "\n"
   ]
  },
  {
   "cell_type": "code",
   "execution_count": 252,
   "id": "76fe38ab",
   "metadata": {},
   "outputs": [],
   "source": [
    "#Now time for data placement\n",
    "data = []\n",
    "\n",
    "for x in final_codeword:\n",
    "    for y in to_byte(x, 8):\n",
    "        data.append(int(y))\n",
    "\n",
    "direction = -1\n",
    "column = SIZE - 1\n",
    "data_index = 0\n",
    "placed = 0\n",
    "\n",
    "while column>0:\n",
    "    if column==6:\n",
    "        column = column - 1\n",
    "    row = (SIZE - 1) if direction == -1 else 0\n",
    "\n",
    "    while row >=0 and row<SIZE:\n",
    "        for col in [column, column - 1]:\n",
    "            if not is_function[row, col]:\n",
    "                if data_index>=len(data):\n",
    "                    break\n",
    "                code_matrix[row, col] = data[data_index]\n",
    "                data_index += 1\n",
    "                placed+=1\n",
    "        row += direction\n",
    "        \n",
    "    column -= 2\n",
    "    direction *= -1\n"
   ]
  },
  {
   "cell_type": "code",
   "execution_count": 253,
   "id": "d65b4b33",
   "metadata": {},
   "outputs": [],
   "source": [
    "#To apply masking\n",
    "'''\n",
    "0. (i+j)%2==0 (alternates black and white pattern)\n",
    "1. i%2==0  \n",
    "2. j%3==0\n",
    "3. (i+j)%3==0\n",
    "4. (floor(i/2) + floor(j/3))%2==0\n",
    "5. ((i*j)%2) + ((i*j)%3)==0\n",
    "6. (((i*j)%2) + ((i*j)%3))%2==0\n",
    "7. (((i+j)%2)+((i*j)%3))%2==0\n",
    "'''\n",
    "\n",
    "\n",
    "def apply_mask(code_matrix):\n",
    "    mask0 = code_matrix.copy()\n",
    "    mask1 = code_matrix.copy()\n",
    "    mask2 = code_matrix.copy()\n",
    "    mask3 = code_matrix.copy()\n",
    "    mask4 = code_matrix.copy()\n",
    "    mask5 = code_matrix.copy()\n",
    "    mask6 = code_matrix.copy()\n",
    "    mask7 = code_matrix.copy()\n",
    "    \n",
    "    for i in range(SIZE):\n",
    "        for j in range(SIZE):\n",
    "            if (i+j)%2 == 0 and not is_function[i, j]:\n",
    "                mask0[i, j] = abs(mask0[i, j] - 1)\n",
    "    for i in range(SIZE):\n",
    "        for j in range(SIZE):\n",
    "            if i%2 == 0 and not is_function[i, j]:\n",
    "                mask1[i, j] = abs(mask1[i, j] - 1)\n",
    "    for i in range(SIZE):\n",
    "        for j in range(SIZE):\n",
    "            if j%3 == 0 and not is_function[i, j]:\n",
    "                mask2[i, j] = abs(mask2[i, j] - 1)\n",
    "    for i in range(SIZE):\n",
    "        for j in range(SIZE):\n",
    "            if (i+j)%3 == 0 and not is_function[i, j]:\n",
    "                mask3[i, j] = abs(mask3[i, j] - 1)\n",
    "    for i in range(SIZE):\n",
    "        for j in range(SIZE):\n",
    "            if ((i//2) + (j//3))%2==0 and not is_function[i, j]:\n",
    "                mask4[i, j] = abs(mask4[i, j] - 1)\n",
    "    for i in range(SIZE):\n",
    "        for j in range(SIZE):\n",
    "            if ((i*j)%2) + ((i*j)%3)==0 and not is_function[i, j]:\n",
    "                mask5[i, j] = abs(mask5[i, j] - 1)\n",
    "    for i in range(SIZE):\n",
    "        for j in range(SIZE):\n",
    "            if (((i*j)%2) + ((i*j)%3))%2==0 and not is_function[i, j]:\n",
    "                mask6[i, j] = abs(mask6[i, j] - 1)\n",
    "    for i in range(SIZE):\n",
    "        for j in range(SIZE):\n",
    "            if (((i+j)%2)+((i*j)%3))%2==0 and not is_function[i, j]:\n",
    "                mask7[i, j] = abs(mask7[i, j] - 1)\n",
    "\n",
    "    return mask0, mask1, mask2, mask3, mask4, mask5, mask6, mask7"
   ]
  },
  {
   "cell_type": "code",
   "execution_count": 254,
   "id": "d82611c3",
   "metadata": {},
   "outputs": [],
   "source": [
    "mask0, mask1, mask2, mask3, mask4, mask5, mask6, mask7 = apply_mask(code_matrix)"
   ]
  },
  {
   "cell_type": "code",
   "execution_count": 255,
   "id": "730c43c6",
   "metadata": {},
   "outputs": [],
   "source": [
    "#To determine the best mask\n",
    "\n",
    "'''\n",
    "-Penalty for each group of five or more same colored modules in a row or column: +3 for run of 5, +1 for each extra module,\n",
    "-Penalty for each 2*2 area of same colored modules: +3 for each 2*2 area,\n",
    "-Penalty if some patterns are similar to finder patterns: +40 for each finder-like pattern,\n",
    "-Penalty for unbalance ration of black and white: calculate % of dark modules, for 5% away form 50%, penalty of 10 is given.\n",
    "'''\n",
    "\n",
    "def evaluate_penalty(mask_matrix):\n",
    "    penalty = 0\n",
    "    #Five or more same colored modules in a row or column\n",
    "    row_run = 0\n",
    "    column_run = 0\n",
    "    previous_bit_row = -1\n",
    "    previous_bit_column = -1\n",
    "    for i in range(SIZE):\n",
    "        for j in range(SIZE):\n",
    "            if mask_matrix[i, j] == previous_bit_row:\n",
    "                row_run+=1\n",
    "            else:\n",
    "                if row_run >=5:\n",
    "                    penalty += 3 + (row_run - 5)\n",
    "                row_run = 1\n",
    "                \n",
    "            previous_bit_row = mask_matrix[i, j]\n",
    "\n",
    "            if mask_matrix[j, i] == previous_bit_column:\n",
    "                column_run += 1\n",
    "            else: \n",
    "                if column_run>=5:\n",
    "                    penalty += 3 + (column_run - 5)\n",
    "                column_run = 1\n",
    "            previous_bit_column = mask_matrix[j, i]\n",
    "        if row_run >= 5:\n",
    "            penalty += 3 + (row_run - 5)\n",
    "        if column_run >= 5:\n",
    "            penalty += 3 + (column_run - 5)\n",
    "        \n",
    "    #2*2 area of same colored modules\n",
    "    for i in range(SIZE - 1):\n",
    "        for j in range(SIZE - 1):\n",
    "            if mask_matrix[i, j] == mask_matrix[i+1, j] == mask_matrix[i, j+1] == mask_matrix[i+1, j+1]:\n",
    "                penalty += 3\n",
    "\n",
    "\n",
    "    #Finder like patterns\n",
    "    core_finder_pattern = np.array([0, 1, 0, 0, 0, 1, 0])\n",
    "    for row in mask_matrix:\n",
    "        for i in range(SIZE - 6):\n",
    "            if np.array_equal(row[i:i+7], core_finder_pattern):\n",
    "                penalty+=40\n",
    "\n",
    "    for j in range(SIZE):\n",
    "        for i in range(SIZE - 6):\n",
    "            if np.array_equal(mask_matrix[i:i+7, j], core_finder_pattern):\n",
    "                penalty+=40\n",
    "\n",
    "\n",
    "    #Proportion of Black and White units\n",
    "    num_white = np.sum(mask_matrix)\n",
    "    total = SIZE*SIZE\n",
    "    white_percent = ((total - num_white) / total)*100\n",
    "    away = abs(white_percent - 50)\n",
    "    if away>=5:\n",
    "        penalty+= int((away//5))*10\n",
    "    \n",
    "    return penalty\n",
    "    "
   ]
  },
  {
   "cell_type": "code",
   "execution_count": 256,
   "id": "c7eacff9",
   "metadata": {},
   "outputs": [
    {
     "name": "stdout",
     "output_type": "stream",
     "text": [
      "4\n"
     ]
    }
   ],
   "source": [
    "mask_penalties = [evaluate_penalty(mask0), evaluate_penalty(mask1), evaluate_penalty(mask2), evaluate_penalty(mask3), evaluate_penalty(mask4), evaluate_penalty(mask5), evaluate_penalty(mask6), evaluate_penalty(mask7)]\n",
    "best_mask = np.argmin(mask_penalties)\n",
    "print(best_mask)"
   ]
  },
  {
   "cell_type": "code",
   "execution_count": 257,
   "id": "af319d49",
   "metadata": {},
   "outputs": [],
   "source": [
    "#Format String\n",
    "''' \n",
    "Error correction level: \n",
    " -L = 01\n",
    " -M = 00\n",
    " -Q = 11\n",
    " -H = 10\n",
    "\n",
    " Masking pattern(3 - bit)\n",
    "\n",
    " The rest is BCH error correction(10 bit) for the above 5 bits\n",
    "'''\n",
    "ec_level = '00'\n",
    "mask_number = to_byte(best_mask, 3)\n",
    "\n",
    "format_string = ec_level + mask_number\n",
    "format_string += '0'*10\n",
    "\n",
    "#Generator polynomial is x^10 + x^8 + x^5 + x^4 + x^2 + x + 1\n",
    "generator_bch = '10100110111'\n",
    "generator_bch = [int(generator_bch[i]) for i in range(len(generator_bch)) ]\n",
    "\n",
    "format_string = [int(format_string[i]) for i in range(len(format_string))]\n",
    "\n",
    "def bch_poly_div(dividend, divisor):\n",
    "    divid = list(dividend)\n",
    "    for i in range(len(dividend) - len(divisor) + 1):\n",
    "        coeff = divid[i]\n",
    "        if coeff !=0:\n",
    "            for j in range(len(divisor)):\n",
    "                divid[i+j] ^= divisor[j]\n",
    "    remainder = divid[-(len(divisor) - 1):]\n",
    "    return remainder\n",
    "\n",
    "format_redundancy = bch_poly_div(format_string, generator_bch)\n",
    "\n",
    "format_string[5:] = format_redundancy\n",
    "\n",
    "# A format string mask is applied to the format string\n",
    "format_mask = '101010000010010'\n",
    "format_mask = [int(format_mask[i]) for i in range(len(format_mask))]\n",
    "\n",
    "format_string = [format_mask[i]^format_string[i] for i in range(len(format_string))]\n",
    "\n",
    "format_index = 0\n",
    "for j in range(8):\n",
    "    if j!=6:\n",
    "        code_matrix[8, j] = format_string[format_index]\n",
    "        format_index += 1\n",
    "\n",
    "for i in reversed(range(9)):\n",
    "    if i!=6:\n",
    "        code_matrix[i, 8] = format_string[format_index]\n",
    "        format_index += 1 \n",
    "        \n",
    "format_index = 0\n",
    "for j in range(8):\n",
    "    code_matrix[8, j+(SIZE - 8)] = format_string[format_index]\n",
    "    format_index += 1\n",
    "\n",
    "\n",
    "for i in reversed(range(7)):\n",
    "    code_matrix[i+(SIZE - 7), 8] = format_string[format_index]\n",
    "    format_index+=1\n",
    "\n"
   ]
  },
  {
   "cell_type": "code",
   "execution_count": 258,
   "id": "49a65f2e",
   "metadata": {},
   "outputs": [],
   "source": [
    "from PIL import Image"
   ]
  },
  {
   "cell_type": "code",
   "execution_count": 259,
   "id": "bbcb454a",
   "metadata": {},
   "outputs": [],
   "source": [
    "SCALE = 10\n",
    "\n",
    "img_array = np.uint8(code_matrix*255)\n",
    "img = Image.fromarray(img_array, mode = 'L')\n",
    "img = img.resize((SIZE*SCALE, SIZE*SCALE), Image.NEAREST)\n",
    "img.show()"
   ]
  }
 ],
 "metadata": {
  "kernelspec": {
   "display_name": "base",
   "language": "python",
   "name": "python3"
  },
  "language_info": {
   "codemirror_mode": {
    "name": "ipython",
    "version": 3
   },
   "file_extension": ".py",
   "mimetype": "text/x-python",
   "name": "python",
   "nbconvert_exporter": "python",
   "pygments_lexer": "ipython3",
   "version": "3.12.3"
  }
 },
 "nbformat": 4,
 "nbformat_minor": 5
}
