{
 "cells": [
  {
   "cell_type": "code",
   "execution_count": 1,
   "id": "093ca875",
   "metadata": {},
   "outputs": [],
   "source": [
    "from data_encode import encode\n",
    "from data_encode import to_byte"
   ]
  },
  {
   "cell_type": "code",
   "execution_count": 2,
   "id": "6aa4699b",
   "metadata": {},
   "outputs": [
    {
     "name": "stdout",
     "output_type": "stream",
     "text": [
      "[64, 164, 134, 86, 198, 198, 245, 118, 247, 38, 198, 64, 236, 17, 236, 17]\n"
     ]
    }
   ],
   "source": [
    "# string_input = input(\"Enter the data to be encoded(14 chars max)\")\n",
    "string_input = \"HelloWorld\"\n",
    "encoded_message = encode(string_input)\n",
    "\n",
    "print(encoded_message)"
   ]
  },
  {
   "cell_type": "code",
   "execution_count": 3,
   "id": "e6b36525",
   "metadata": {},
   "outputs": [],
   "source": [
    "alpha = 0x02 #Alpha is an an element which can generate all elements of the field after being raiesd to some power\n",
    "primitive = 0x11D #Primitive is irreductible polynomial that defines the Gallois Field.\n",
    "\n",
    "log = [0]*256\n",
    "antilog = [0]*512 #Since the operations are closed so there must be wraparound i.e. alpha^255 = alpha^0 = 1 so when there is antilog(log[a] + log[b]), antilog(log[a] + log[b] % 255) is not required since the values beyond 255 are kept the same as the initial values.\n",
    "\n",
    "x = 1\n",
    "\n",
    "for i in range(255):\n",
    "    antilog[i] = x\n",
    "    log[x] = i\n",
    "\n",
    "    x = x<<1 #Left Shift by 1 i.e. multiply by 2 i.e. alpha; microprocessor nostalgia\n",
    "    \n",
    "    if x & 0x100: #If there is 9th bit then it is beyond GF(256)\n",
    "        x = x^primitive #EXOR is same as addition/substraction, later in this case, in GF(2)\n",
    "\n",
    "for i in range(255, 512):\n",
    "    antilog[i] = antilog[i-255]"
   ]
  },
  {
   "cell_type": "code",
   "execution_count": 4,
   "id": "c38bf1a3",
   "metadata": {},
   "outputs": [],
   "source": [
    "def gf_addition(a, b):\n",
    "    return a^b\n",
    "\n",
    "def gf_multiplication(a, b):\n",
    "    if a==0 or b==0:\n",
    "        return 0\n",
    "    return antilog[log[a] + log[b]]\n",
    "\n",
    "def gf_division(a, b):\n",
    "    if a==0:\n",
    "        return 0\n",
    "    if b==0:\n",
    "        raise ZeroDivisionError()\n",
    "    return antilog[log[a] - log[b]]\n",
    "\n",
    "def poly_mul(a, b):\n",
    "    result = [0]*(len(a)+len(b)-1)\n",
    "    for i in range(len(a)):\n",
    "        for j in range(len(b)):\n",
    "            result[i+j] ^= gf_multiplication(a[i], b[j])\n",
    "    return result\n",
    "\n",
    "def generate_generator(num_ec):\n",
    "    g = [1]\n",
    "    for i in range(num_ec):\n",
    "        g = poly_mul(g, [1, antilog[i]])  # (x-a^i) is written as [1, antilog[i] i.e. a^i] and +/- are same in GF(256)\n",
    "    return g"
   ]
  },
  {
   "cell_type": "code",
   "execution_count": 5,
   "id": "ffa9f07a",
   "metadata": {},
   "outputs": [],
   "source": [
    "def poly_div(dividend, divisor): #We perform polynomial long division after which the remainder will be the error correction codeword\n",
    "    divi = list(dividend)\n",
    "    for i in range(len(dividend) - len(divisor)+1):\n",
    "        coeff = divi[i]\n",
    "        if coeff!=0:\n",
    "            for j in range(len(divisor)):\n",
    "                divi[i+j] ^= gf_multiplication(divisor[j], coeff) \n",
    "                '''This is in place division where the dividend is modified in each operation \n",
    "                    divisor*highest_coeff_of_dividend is substracted from dividend taking the first terms equal to the number of terms of divisor.\n",
    "                    The first term is always cancelled as the generator polynomial is monic and other terms are modified accordingly.'''\n",
    "    remainder = divi[-(len(divisor)-1):]  #The last remaining terms with degree, at most, one less than divisor\n",
    "    return remainder"
   ]
  },
  {
   "cell_type": "code",
   "execution_count": 6,
   "id": "edffeac0",
   "metadata": {},
   "outputs": [],
   "source": [
    "ERROR_CORRECTION_BYTES = 10"
   ]
  },
  {
   "cell_type": "code",
   "execution_count": 7,
   "id": "54f12962",
   "metadata": {},
   "outputs": [
    {
     "name": "stdout",
     "output_type": "stream",
     "text": [
      "[64, 164, 134, 86, 198, 198, 245, 118, 247, 38, 198, 64, 236, 17, 236, 17, 0, 0, 0, 0, 0, 0, 0, 0, 0, 0]\n"
     ]
    }
   ],
   "source": [
    "padded_message = encoded_message + [0 for i in range(ERROR_CORRECTION_BYTES)]\n",
    "print(padded_message)"
   ]
  },
  {
   "cell_type": "code",
   "execution_count": 8,
   "id": "2941ef86",
   "metadata": {},
   "outputs": [
    {
     "name": "stdout",
     "output_type": "stream",
     "text": [
      "[205, 22, 167, 68, 166, 106, 114, 197, 70, 229]\n"
     ]
    }
   ],
   "source": [
    "redundant_bits = poly_div(padded_message, generate_generator(ERROR_CORRECTION_BYTES))\n",
    "print(redundant_bits)"
   ]
  },
  {
   "cell_type": "code",
   "execution_count": 9,
   "id": "5a259334",
   "metadata": {},
   "outputs": [
    {
     "name": "stdout",
     "output_type": "stream",
     "text": [
      "[64, 164, 134, 86, 198, 198, 245, 118, 247, 38, 198, 64, 236, 17, 236, 17, 205, 22, 167, 68, 166, 106, 114, 197, 70, 229]\n"
     ]
    }
   ],
   "source": [
    "for i, j in zip(range(len(encoded_message), len(encoded_message) + ERROR_CORRECTION_BYTES), range(ERROR_CORRECTION_BYTES)):\n",
    "    padded_message[i] = redundant_bits[j]\n",
    "\n",
    "final_codeword = padded_message\n",
    "print(final_codeword)"
   ]
  },
  {
   "cell_type": "code",
   "execution_count": null,
   "id": "61318187",
   "metadata": {},
   "outputs": [],
   "source": []
  }
 ],
 "metadata": {
  "kernelspec": {
   "display_name": "base",
   "language": "python",
   "name": "python3"
  },
  "language_info": {
   "codemirror_mode": {
    "name": "ipython",
    "version": 3
   },
   "file_extension": ".py",
   "mimetype": "text/x-python",
   "name": "python",
   "nbconvert_exporter": "python",
   "pygments_lexer": "ipython3",
   "version": "3.12.3"
  }
 },
 "nbformat": 4,
 "nbformat_minor": 5
}
