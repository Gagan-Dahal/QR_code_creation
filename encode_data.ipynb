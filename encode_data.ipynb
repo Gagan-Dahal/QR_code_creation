{
 "cells": [
  {
   "cell_type": "code",
   "execution_count": 6,
   "id": "f164e3b2",
   "metadata": {},
   "outputs": [],
   "source": [
    "NUMERIC = 1\n",
    "ALPHA_NUMERIC = 2\n",
    "BYTE = 4\n",
    "KANJI = 8\n",
    "MAX_BYTES = 14 #with version 1 and error correction level Medium\n",
    "DATA_CODEWORD_LEN = 20\n",
    "PAD_BYTES = [0XEC, 0X11]"
   ]
  },
  {
   "cell_type": "code",
   "execution_count": 7,
   "id": "093ca875",
   "metadata": {},
   "outputs": [],
   "source": [
    "def to_byte(value, bit_length):\n",
    "    return format(value, f'0{bit_length}b')"
   ]
  },
  {
   "cell_type": "code",
   "execution_count": null,
   "id": "6aa4699b",
   "metadata": {},
   "outputs": [
    {
     "name": "stdout",
     "output_type": "stream",
     "text": [
      "[64, 164, 134, 86, 198, 198, 245, 118, 247, 38, 198, 64, 17, 236, 17, 236, 17, 236, 17, 236]\n"
     ]
    }
   ],
   "source": [
    "data_type = BYTE\n",
    "char_count = 0\n",
    "\n",
    "# string_input = input(\"Enter the data to be encoded(14 chars max)\")\n",
    "string_input = \"HelloWorld\"\n",
    "char_count = len(string_input)\n",
    "if char_count >14:\n",
    "    raise RuntimeError(\"Invalid Input\")\n",
    "\n",
    "bit_stream = to_byte(data_type, 4)\n",
    "bit_stream += to_byte(char_count, 8)\n",
    "\n",
    "for x in string_input:\n",
    "    bit_stream += to_byte(ord(x), 8)\n",
    "\n",
    "#Adding terminators to signal end of data words, at max 4 bits\n",
    "max_bits = MAX_BYTES*8          \n",
    "rem_bits = min(4, max_bits - len(bit_stream))\n",
    "bit_stream += '0'*rem_bits\n",
    "\n",
    "while len(bit_stream) % 8 != 0: #Not needed in byte mode but may be needed in other modes to make the bit stream a multiple of 8\n",
    "    bit_stream += '0'\n",
    "\n",
    "\n",
    "data_codeword = [int(bit_stream[i:i+8], 2) for i in range(0, len(bit_stream), 8)] #Data word paired in groups of 8 and converted into integer\n",
    "\n",
    "alternate = 1\n",
    "while len(data_codeword) < DATA_CODEWORD_LEN: #Pad the message to the maximum limit\n",
    "    data_codeword.append(PAD_BYTES[alternate%2])\n",
    "    alternate += 1\n",
    "\n",
    "print(data_codeword)"
   ]
  },
  {
   "cell_type": "code",
   "execution_count": 9,
   "id": "d0a87a97",
   "metadata": {},
   "outputs": [
    {
     "name": "stdout",
     "output_type": "stream",
     "text": [
      "[72, 101, 108, 108, 111, 32, 87, 111, 114, 108, 100, 0]\n",
      "13\n"
     ]
    }
   ],
   "source": [
    "a = \"Hello World\"\n",
    "code_word = [ord(x) for x in a]\n",
    "code_word.append(00)\n",
    "print(code_word)\n",
    "code_word.append(00)\n",
    "print(len(code_word))"
   ]
  },
  {
   "cell_type": "code",
   "execution_count": null,
   "id": "e6b36525",
   "metadata": {},
   "outputs": [],
   "source": [
    "alpha = 0x02 #Alpha is an an element which can generate all elements of the field after being raiesd to some power\n",
    "primitive = 0x11D #Primitive is irreductible polynomial that defines the Gallois Field.\n",
    "\n",
    "log = [0]*256\n",
    "antilog = [0]*512 #Since the operations are closed so there must be wraparound i.e. alpha^255 = alpha^0 = 1 so when there is antilog(log[a] + log[b]), antilog(log[a] + log[b] % 255) is not required since the values beyond 255 are kept the same as the initial values.\n",
    "\n",
    "x = 1\n",
    "\n",
    "for i in range(255):\n",
    "    antilog[i] = x\n",
    "    log[x] = i\n",
    "\n",
    "    x = x<<1 #Left Shift by 1 i.e. multiply by 2 i.e. alpha, microprocessor nostalgia\n",
    "    \n",
    "    if x & 0x100: #If there is 9th bit then it is beyond GF(256)\n",
    "        x = x^primitive #EXOR is same as addition/substraction, later in this case, in GF(2)\n",
    "\n",
    "for i in range(255, 512):\n",
    "    antilog[i] = antilog[i-255]"
   ]
  },
  {
   "cell_type": "code",
   "execution_count": null,
   "id": "c38bf1a3",
   "metadata": {},
   "outputs": [],
   "source": [
    "def gf_addition(a, b):\n",
    "    return a^b\n",
    "\n",
    "def gf_multiplication(a, b):\n",
    "    if a==0 or b==0:\n",
    "        return 0\n",
    "    return antilog[log[a] + log[b]]\n",
    "\n",
    "def gf_division(a, b):\n",
    "    if a==0:\n",
    "        return 0\n",
    "    if b==0:\n",
    "        raise ZeroDivisionError()\n",
    "    return antilog[log[a] - log[b]]\n",
    "\n",
    "def poly_mul(a, b):\n",
    "    result = [0]*(len(a)+len(b)-1)\n",
    "    for i in range(len(a)):\n",
    "        for j in range(len(b)):\n",
    "            result[i+j] ^= gf_multiplication(a[i], b[j])\n",
    "    return result\n",
    "\n",
    "def generate_generator(num_ec):\n",
    "    g = [1]\n",
    "    for i in range(num_ec):\n",
    "        g = poly_mul(g, [1, antilog[i]])  # (x-a^i) is written as [1, antilog[i] i.e. a^i] and +/- are same in GF(256)\n",
    "    return g"
   ]
  },
  {
   "cell_type": "code",
   "execution_count": null,
   "id": "ffa9f07a",
   "metadata": {},
   "outputs": [],
   "source": [
    "def poly_div(dividend, divisor): #We perform polynomial long division after which the remainder will be the error correction codeword\n",
    "    divi = list(dividend)\n",
    "    for i in range(len(dividend) - len(divisor)+1):\n",
    "        coeff = divi[i]\n",
    "        if coeff!=0:\n",
    "            for j in range(len(divisor)):\n",
    "                divi[i+j] ^= gf_multiplication(divisor[j], coeff) \n",
    "                '''This is in place division where the dividend is modified in each operation \n",
    "                    divisor*highest_coeff_of_dividend is substracted from dividend taking the first terms equal to the number of terms of divisor'''\n",
    "    remainder = divi[-(len(dividend)-1):]  #The last remaining terms with degree, at most, one less than divisor\n",
    "    return remainder"
   ]
  },
  {
   "cell_type": "code",
   "execution_count": null,
   "id": "866cc55d",
   "metadata": {},
   "outputs": [],
   "source": []
  }
 ],
 "metadata": {
  "kernelspec": {
   "display_name": "base",
   "language": "python",
   "name": "python3"
  },
  "language_info": {
   "codemirror_mode": {
    "name": "ipython",
    "version": 3
   },
   "file_extension": ".py",
   "mimetype": "text/x-python",
   "name": "python",
   "nbconvert_exporter": "python",
   "pygments_lexer": "ipython3",
   "version": "3.12.3"
  }
 },
 "nbformat": 4,
 "nbformat_minor": 5
}
